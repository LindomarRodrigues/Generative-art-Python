{
 "cells": [
  {
   "cell_type": "markdown",
   "source": [
    "## Importing libraries\n",
    "below the math and random libraries will be imported.\n",
    "<li>math: Library used to calculate the angle of the squares</li>\n",
    "<li>random: Library used to generate random values ​​used later in the \"randomization\" of the square angles</li>"
   ],
   "metadata": {
    "collapsed": false,
    "pycharm": {
     "name": "#%% md\n"
    }
   }
  },
  {
   "cell_type": "code",
   "execution_count": 1,
   "outputs": [],
   "source": [
    "import math\n",
    "import random"
   ],
   "metadata": {
    "collapsed": false,
    "pycharm": {
     "name": "#%%\n"
    }
   }
  },
  {
   "cell_type": "markdown",
   "source": [
    "below the cv2 and numpy libraries will be imported.\n",
    "<li>cv2: Also called openCv, it is the most used library for manipulating images in python</li>\n",
    "<li>numpy: Used as a core for cv2, it allows greater sophistication in handling arrays</li>"
   ],
   "metadata": {
    "collapsed": false
   }
  },
  {
   "cell_type": "code",
   "execution_count": 2,
   "outputs": [],
   "source": [
    "import cv2\n",
    "import numpy as np"
   ],
   "metadata": {
    "collapsed": false,
    "pycharm": {
     "name": "#%%\n"
    }
   }
  },
  {
   "cell_type": "markdown",
   "source": [
    "## Creating the image\n",
    "Below, the base image for the algorithm will be created and the background color will be set to white."
   ],
   "metadata": {
    "collapsed": false
   }
  },
  {
   "cell_type": "code",
   "execution_count": 3,
   "outputs": [],
   "source": [
    "img = np.zeros((2340, 1080, 1), np.uint8)\n",
    "img[:, :] = 255"
   ],
   "metadata": {
    "collapsed": false,
    "pycharm": {
     "name": "#%%\n"
    }
   }
  },
  {
   "cell_type": "markdown",
   "source": [
    "Now a function will be defined that allows to create squares with angulation"
   ],
   "metadata": {
    "collapsed": false
   }
  },
  {
   "cell_type": "code",
   "execution_count": 4,
   "outputs": [],
   "source": [
    "def draw_angled_rec(x0, y0, width, height, angle, img, color, line_w):\n",
    "    _angle = angle * math.pi / 180.0\n",
    "    b = math.cos(_angle) * 0.5\n",
    "    a = math.sin(_angle) * 0.5\n",
    "    pt0 = (int(x0 - a * height - b * width),\n",
    "           int(y0 + b * height - a * width))\n",
    "    pt1 = (int(x0 + a * height - b * width),\n",
    "           int(y0 - b * height - a * width))\n",
    "    pt2 = (int(2 * x0 - pt0[0]), int(2 * y0 - pt0[1]))\n",
    "    pt3 = (int(2 * x0 - pt1[0]), int(2 * y0 - pt1[1]))\n",
    "\n",
    "    cv2.line(img, pt0, pt1, color, line_w)\n",
    "    cv2.line(img, pt1, pt2, color, line_w)\n",
    "    cv2.line(img, pt2, pt3, color, line_w)\n",
    "    cv2.line(img, pt3, pt0, color, line_w)\n",
    "\n",
    "    return img"
   ],
   "metadata": {
    "collapsed": false,
    "pycharm": {
     "name": "#%%\n"
    }
   }
  },
  {
   "cell_type": "markdown",
   "source": [
    "Below is the script that generates the squares, if it consists of two loops, the first on the y axis and the second on the x axis, with each pass on the x axis, the \"embaralhador\" receives a unit, which increases the randomness range of the square angle."
   ],
   "metadata": {
    "collapsed": false
   }
  },
  {
   "cell_type": "code",
   "execution_count": 5,
   "outputs": [],
   "source": [
    "lado_q = int(img.shape[1] / 12)\n",
    "\n",
    "embaralhador = 0\n",
    "for y in range(0, img.shape[0], int(lado_q)):\n",
    "    for x in range(0, img.shape[1], int(lado_q)):\n",
    "        img = draw_angled_rec(x + lado_q // 2, y + lado_q // 2,\n",
    "                              lado_q, lado_q,\n",
    "                              random.uniform(float(f\"-{embaralhador}\"), embaralhador),\n",
    "                              img, 0, 4)\n",
    "    embaralhador += 2"
   ],
   "metadata": {
    "collapsed": false,
    "pycharm": {
     "name": "#%%\n"
    }
   }
  },
  {
   "cell_type": "markdown",
   "source": [
    "Now just save the image"
   ],
   "metadata": {
    "collapsed": false
   }
  },
  {
   "cell_type": "code",
   "execution_count": 6,
   "outputs": [
    {
     "data": {
      "text/plain": "True"
     },
     "execution_count": 6,
     "metadata": {},
     "output_type": "execute_result"
    }
   ],
   "source": [
    "cv2.imwrite(\"Lindomar Rodrigues, Schotter.png\", img)"
   ],
   "metadata": {
    "collapsed": false,
    "pycharm": {
     "name": "#%%\n"
    }
   }
  },
  {
   "cell_type": "markdown",
   "source": [
    "## Resultado\n",
    "![Schotter, Lindomar Rodrigues](https://i.ibb.co/87VMB6m/Lindomar-Rodrigues-Schotter.png)\n"
   ],
   "metadata": {
    "collapsed": false
   }
  }
 ],
 "metadata": {
  "kernelspec": {
   "display_name": "Python 3",
   "language": "python",
   "name": "python3"
  },
  "language_info": {
   "codemirror_mode": {
    "name": "ipython",
    "version": 2
   },
   "file_extension": ".py",
   "mimetype": "text/x-python",
   "name": "python",
   "nbconvert_exporter": "python",
   "pygments_lexer": "ipython2",
   "version": "2.7.6"
  }
 },
 "nbformat": 4,
 "nbformat_minor": 0
}